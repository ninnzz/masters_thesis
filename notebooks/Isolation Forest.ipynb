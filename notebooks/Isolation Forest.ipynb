{
 "cells": [
  {
   "cell_type": "markdown",
   "metadata": {},
   "source": [
    "## Isolation Forest\n",
    "\n",
    "Testing isolation forest implementation for one class classification."
   ]
  },
  {
   "cell_type": "code",
   "execution_count": 25,
   "metadata": {},
   "outputs": [],
   "source": [
    "import os\n",
    "import cv2\n",
    "import numpy as np\n",
    "import matplotlib.pyplot as plt\n",
    "\n",
    "from sklearn.ensemble import IsolationForest"
   ]
  },
  {
   "cell_type": "code",
   "execution_count": 26,
   "metadata": {},
   "outputs": [],
   "source": [
    "temp_image = '../divided/seg12.png'\n",
    "damage_dir = '../divided/sliced/damaged/'\n",
    "no_damage_dir = '../divided/sliced/no_damage/'"
   ]
  },
  {
   "cell_type": "code",
   "execution_count": 27,
   "metadata": {},
   "outputs": [],
   "source": [
    "# img = cv2.imread(temp_image)\n",
    "# img = cv2.cvtColor(img, cv2.COLOR_BGR2GRAY)\n",
    "# plt.figure(figsize = (20, 20))\n",
    "# plt.imshow(img, cmap = plt.cm.gray)\n",
    "# img = cv2.GaussianBlur(img, (11, 11), 0)\n",
    "\n",
    "# sobelx = cv2.Sobel(img, cv2.CV_64F, 1, 0)\n",
    "# sobely = cv2.Sobel(img, cv2.CV_64F, 0, 1)\n",
    "\n",
    "# laplacian = cv2.Laplacian(img, cv2.CV_64F, ksize=31)\n",
    "\n",
    "# canny = cv2.Canny(img, 100, 150)\n",
    "\n",
    "# plt.figure(figsize = (20, 20))\n",
    "# plt.imshow(laplacian, cmap = plt.cm.gray)\n",
    "\n",
    "\n",
    "# def quantify_image(image, bins=(4, 6, 3)):\n",
    "#     # compute a 3D color histogram over the image and normalize it\n",
    "#     hist = cv2.calcHist([image], [0, 1, 2], None, bins,\n",
    "#         [0, 180, 0, 256, 0, 256])\n",
    "#     hist = cv2.normalize(hist, hist).flatten()\n",
    "#     # return the histogram\n",
    "#     return hist\n",
    "\n",
    "# def load_dataset(path, bins):\n",
    "#     # grab the paths to all images in our dataset directory, then\n",
    "#     # initialize our lists of images\n",
    "#     imagePaths = list(paths.list_images(path))\n",
    "#     data = []\n",
    "#     # loop over the image paths\n",
    "#     for imagePath in imagePaths:\n",
    "#         # load the image and convert it to the HSV color space\n",
    "#         image = cv2.imread(imagePath)\n",
    "#         image = cv2.cvtColor(image, cv2.COLOR_BGR2HSV)\n",
    "#         # quantify the image and update the data list\n",
    "#         features = quantify_image(image, bins)\n",
    "#         data.append(features)\n",
    "#     # return our data list as a NumPy array\n",
    "#     return np.array(data)"
   ]
  },
  {
   "cell_type": "code",
   "execution_count": 28,
   "metadata": {},
   "outputs": [],
   "source": [
    "def quantify_image(image, bins=(4, 6, 3)):\n",
    "    # compute a 3D color histogram over the image and normalize it\n",
    "    hist = cv2.calcHist([image], [0, 1, 2], None, bins,\n",
    "        [0, 180, 0, 256, 0, 256])\n",
    "    hist = cv2.normalize(hist, hist).flatten()\n",
    "    # return the histogram\n",
    "    return hist\n",
    "\n",
    "def load_data(directory):\n",
    "    data = []\n",
    "    for filename in os.listdir(directory):\n",
    "        if filename.endswith(\".png\"):\n",
    "            im_path = os.path.join(directory, filename)\n",
    "            image = cv2.imread(im_path)\n",
    "            image = cv2.cvtColor(image, cv2.COLOR_BGR2HSV)\n",
    "            features = quantify_image(image)\n",
    "            data.append(features)\n",
    "    return data"
   ]
  },
  {
   "cell_type": "code",
   "execution_count": 29,
   "metadata": {},
   "outputs": [],
   "source": [
    "damage_data = load_data(damage_dir)\n",
    "no_damage_data = load_data(no_damage_dir)"
   ]
  },
  {
   "cell_type": "code",
   "execution_count": 38,
   "metadata": {},
   "outputs": [],
   "source": [
    "model = IsolationForest(n_estimators=200, contamination=0, random_state=42)"
   ]
  },
  {
   "cell_type": "code",
   "execution_count": 39,
   "metadata": {},
   "outputs": [
    {
     "data": {
      "text/plain": [
       "IsolationForest(contamination=0, n_estimators=200, random_state=42)"
      ]
     },
     "execution_count": 39,
     "metadata": {},
     "output_type": "execute_result"
    }
   ],
   "source": [
    "model.fit(damage_data)"
   ]
  },
  {
   "cell_type": "code",
   "execution_count": 40,
   "metadata": {},
   "outputs": [],
   "source": [
    "result = model.predict(no_damage_data)"
   ]
  },
  {
   "cell_type": "code",
   "execution_count": 41,
   "metadata": {},
   "outputs": [
    {
     "data": {
      "text/plain": [
       "array([ 1,  1,  1,  1,  1,  1,  1, -1,  1, -1,  1])"
      ]
     },
     "execution_count": 41,
     "metadata": {},
     "output_type": "execute_result"
    }
   ],
   "source": [
    "result"
   ]
  },
  {
   "cell_type": "code",
   "execution_count": null,
   "metadata": {},
   "outputs": [],
   "source": []
  }
 ],
 "metadata": {
  "kernelspec": {
   "display_name": "Python 3",
   "language": "python",
   "name": "python3"
  },
  "language_info": {
   "codemirror_mode": {
    "name": "ipython",
    "version": 3
   },
   "file_extension": ".py",
   "mimetype": "text/x-python",
   "name": "python",
   "nbconvert_exporter": "python",
   "pygments_lexer": "ipython3",
   "version": "3.8.3"
  }
 },
 "nbformat": 4,
 "nbformat_minor": 4
}
