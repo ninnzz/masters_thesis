{
 "cells": [
  {
   "cell_type": "code",
   "execution_count": 1,
   "metadata": {},
   "outputs": [],
   "source": [
    "import cv2\n",
    "import numpy as np\n",
    "import matplotlib.pyplot as plt"
   ]
  },
  {
   "cell_type": "code",
   "execution_count": 2,
   "metadata": {},
   "outputs": [],
   "source": [
    "temp_image = '../divided/seg13.png'"
   ]
  },
  {
   "cell_type": "code",
   "execution_count": null,
   "metadata": {},
   "outputs": [],
   "source": [
    "img = cv2.imread(temp_image, cv2.IMREAD_GRAYSCALE)\n",
    "img = cv2.GaussianBlur(img, (11, 11), 0)\n",
    "\n",
    "sobelx = cv2.Sobel(img, cv2.CV_64F, 1, 0)\n",
    "sobely = cv2.Sobel(img, cv2.CV_64F, 0, 1)\n",
    "\n",
    "laplacian = cv2.Laplacian(img, cv2.CV_64F, ksize=5)\n",
    "\n",
    "canny = cv2.Canny(img, 100, 150)\n",
    "\n",
    "plt.figure(figsize = (20, 20))\n",
    "plt.imshow(img)\n"
   ]
  },
  {
   "cell_type": "code",
   "execution_count": null,
   "metadata": {},
   "outputs": [],
   "source": []
  }
 ],
 "metadata": {
  "kernelspec": {
   "display_name": "Python 3",
   "language": "python",
   "name": "python3"
  },
  "language_info": {
   "codemirror_mode": {
    "name": "ipython",
    "version": 3
   },
   "file_extension": ".py",
   "mimetype": "text/x-python",
   "name": "python",
   "nbconvert_exporter": "python",
   "pygments_lexer": "ipython3",
   "version": "3.8.3"
  }
 },
 "nbformat": 4,
 "nbformat_minor": 4
}
